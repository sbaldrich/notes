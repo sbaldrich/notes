{
 "cells": [
  {
   "cell_type": "markdown",
   "metadata": {},
   "source": [
    "## Notes on single variable calculus (MIT course)\n",
    "1. [derivatives](#derivatives)\n",
    "\n",
    "<a name=\"derivatives\"></a>\n",
    "### Derivatives\n",
    "\n",
    "#### Geometric interpretation\n",
    "The slope of the line tangent to the graph of $f(x)$. However, a tangent line is not just a line that meets the graph at one point, it is the limit of the secant line as the distance between the two points tends to zero. So, *the derivative is the limit of the slopes of secant lines $PQ$ as $Q \\to P$ (with $P$ fixed)*.\n",
    "\n",
    "![secant](secant.png)\n",
    "\n",
    "$$\\lim_{\\Delta x \\to 0} \\frac{\\Delta f}{\\Delta x} = \\lim_{\\Delta x \\to 0} \\frac{f(x_0 + \\Delta x) - f(x_0)}{\\Delta x} = f'(x_0)$$"
   ]
  },
  {
   "cell_type": "code",
   "execution_count": null,
   "metadata": {
    "collapsed": false
   },
   "outputs": [],
   "source": []
  }
 ],
 "metadata": {
  "kernelspec": {
   "display_name": "Python 2",
   "language": "python",
   "name": "python2"
  },
  "language_info": {
   "codemirror_mode": {
    "name": "ipython",
    "version": 2
   },
   "file_extension": ".py",
   "mimetype": "text/x-python",
   "name": "python",
   "nbconvert_exporter": "python",
   "pygments_lexer": "ipython2",
   "version": "2.7.10"
  }
 },
 "nbformat": 4,
 "nbformat_minor": 0
}
