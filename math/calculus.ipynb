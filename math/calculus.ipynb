{
 "cells": [
  {
   "cell_type": "code",
   "execution_count": 21,
   "metadata": {
    "collapsed": true
   },
   "outputs": [],
   "source": [
    "%matplotlib inline\n",
    "import numpy as np\n",
    "from matplotlib import pyplot as plt\n",
    "from matplotlib.gridspec import GridSpec"
   ]
  },
  {
   "cell_type": "markdown",
   "metadata": {},
   "source": [
    "## Notes on single variable calculus [MIT 18.01](http://ocw.mit.edu/courses/mathematics/18-01-single-variable-calculus-fall-2006/lecture-notes/)\n",
    "1. [Derivatives](#derivatives)\n",
    "1. [Limits and continuity](#limits)\n",
    "1. [Derivative Formulas](#formulas)\n",
    "\n",
    "<a name=\"derivatives\"></a>\n",
    "### Derivatives\n",
    "\n",
    "#### Geometric interpretation\n",
    "The slope of the line tangent to the graph of $f(x)$. However, a tangent line is not just a line that meets the graph at one point, it is the limit of the secant lines as the distance between the two points tends to zero. So, *the derivative is the limit of the slopes of secant lines $PQ$ as $Q \\to P$ (with $P$ fixed)*.\n",
    "\n",
    "![secant](img/secant.png)\n",
    "\n",
    "$$\\lim_{\\Delta x \\to 0} \\frac{\\Delta f}{\\Delta x} = \\lim_{\\Delta x \\to 0} \\frac{f(x_0 + \\Delta x) - f(x_0)}{\\Delta x} = f'(x_0)$$\n",
    "\n",
    "##### General rule for derivating polynomials\n",
    "\n",
    "Let $f(x) = x^n$ with $n \\in \\mathbb{Z} \\land n >= 1$. What is $f'(x)$?\n",
    "\n",
    "$$\\frac{\\Delta y}{\\Delta x} = \\frac{(x_0 + \\Delta x)^n - x_0^n}{\\Delta x} = \\frac{(x + \\Delta x)^n - x^n}{\\Delta x}$$\n",
    "\n",
    "Now, \n",
    "$$(x + \\Delta x)^n = x^n + n(\\Delta x)(x^{n-1}) + o((\\Delta x)^2)$$\n",
    "\n",
    "Then, \n",
    "\n",
    "$$\\frac{\\Delta y}{\\Delta x} = \\frac{x^n + n(\\Delta x)(x^{n-1}) + o((\\Delta x)^2) - x^n}{\\Delta x} = nx^{n-1} + o(\\Delta x)$$\n",
    "\n",
    "Taking the limit, \n",
    "\n",
    "$$\\lim_{\\Delta x \\to 0} \\frac{\\Delta y}{\\Delta x} = nx^{n-1}$$\n",
    "\n",
    "Therefore, \n",
    "\n",
    "$$\\boxed{\\frac{d}{dx} x^n = nx^{n-1}}$$\n",
    "\n",
    "#### Interpretation as a rate of change\n",
    "\n",
    "If we analyze the $\\frac{\\Delta y}{\\Delta x}$, we get the *average rate of change* over the interval $\\Delta x$. If we analyze the derivative ($\\frac{d}{dx} y$), we get the *instantaneous rate*, for example let $s$ represent distance and $t$ represent time, $\\frac{d}{dt}s$ would give us speed.\n",
    "\n",
    "###### Some examples of derivatives as rate of change are\n",
    "* **The MIT's Pumpkin Drop:** we can calculate the average speed at which the Pumpkin falls by plugging in the values for the height and acceleration in the free-fall kinematic equation.\n",
    "* **Temperature gradient:** To predict climatic changes.\n",
    "* **Sensitivity of measurements:** GPS uses derivatives to obtain our position relative to known points.\n",
    "\n",
    "<a name=\"limits\"></a>\n",
    "### Limits and Continuity\n",
    "\n",
    "There are two types of limits.\n",
    "\n",
    "* Easy limits: The ones were you can simply plug-in the value which $x$ tends to. **e.g.,** $\\lim_{x \\to 4} \\frac{x + 1}{x^2 - 3}$\n",
    "* Derivatives are **always** harder because you can't simply plug $x_0$ in the difference quotient since that would always be $\\frac{0}{0}$. There must be some kind of cancellation.\n",
    "\n",
    "#### Left and Right hand limits\n",
    "\n",
    "The right (left) hand limit of a function $f(x)$ is its limit when $x \\to x_0$ from the right (left), which means that $x > x_0$ ($x < x_0$).\n",
    "\n",
    "> **Definition:** A function is said to be continous at $x_0$ if $\\lim_{x \\to x_0} f(x_0) = f(x_0)$ (hey, an easy limit!)\n",
    "This implies that\n",
    "1. $\\lim_{x \\to x_0} f(x_0)$ exists and is equal to the left and right hand limits at $x_0$\n",
    "2. $f(x_0)$ is defined.\n",
    "3. *1.* and *2.* are equal.\n",
    "\n",
    "#### Discontinuity\n",
    "\n",
    "* **Jump discontinuity:** Both left and right hand limits exist but are different.\n",
    "* **Removable discontinuity:** Left and right hand limits exist and are equal but the function is not defined at $x_0$, **e.g.,** $g(x)=\\frac{\\sin(x)}{x}, h(x)=\\frac{1 - \\cos(x)}{x}$. Both $g$ and $h$ are undefined at $x=0$ but their limits do exist and are equal to $1$ and $0$ respectively (more on this later).\n",
    "* **Infinite discontinuity:** Left and right limits are $- \\infty$ and $+\\infty$, take for example $f(x) = \\frac{1}{x}, f'(x)=\\frac{-1}{x^2}$. \n"
   ]
  },
  {
   "cell_type": "code",
   "execution_count": 78,
   "metadata": {
    "collapsed": false,
    "scrolled": true
   },
   "outputs": [
    {
     "data": {
      "image/png": "[encoded data removed]",
      "text/plain": [
       "<matplotlib.figure.Figure at 0x7fb678457dd0>"
      ]
     },
     "metadata": {},
     "output_type": "display_data"
    }
   ],
   "source": [
    "def plot(X, ax, axis, f, title):\n",
    "    x = np.linspace(*X)\n",
    "    y = [f(xi) for xi in x]\n",
    "    ax.plot(x, y)\n",
    "    ax.set_title(title)\n",
    "    ax.axis(axis)\n",
    "\n",
    "X = [-10,10,100]\n",
    "fig1 = plt.figure(figsize=[4,3])\n",
    "gs = GridSpec(100,200,bottom=0.18,left=0.18,right=2.5)\n",
    "ax1 = fig1.add_subplot(gs[:,0:90])\n",
    "ax2 = fig1.add_subplot(gs[:,110:199])\n",
    "\n",
    "plot(X, ax1, [-10,10,-20,20], lambda x : 1/x, 'f(x)')\n",
    "plot(X, ax2, [-10,10,-100,20], lambda x : -1/x**2, 'f\\' (x)')\n",
    "plt.show()"
   ]
  },
  {
   "cell_type": "markdown",
   "metadata": {},
   "source": [
    "> **Theorem**: If a function $f$ is *differentiable* at $x_0$, then it is *continuous* at $x_0$.\n",
    "\n",
    "> **Proof:**\n",
    "\n",
    "$$\\begin{align*}\n",
    " \\lim_{x \\to x_0} f(x) - f(x_0) &= 0 \\\\\n",
    " &= \\lim_{x \\to x_0} \\frac{f(x) - f(x_0)}{(x - x_0)}(x - x_0) \\\\\n",
    " &= f'(x_0) * \\lim_{x \\to x_0}(x - x_0)\\\\\n",
    " &= 0 \n",
    "\\end{align*}$$\n",
    "\n",
    "<a name=\"formulas\"></a>\n",
    "### Derivative formulas\n",
    "\n",
    "$\\bullet \\frac{d}{dx}\\sin x = \\cos x$\n",
    "\n",
    "$\\bullet \\frac{d}{dx}\\cos x = -\\sin x$\n",
    "\n",
    "> The derivatives for $\\sin$ and $\\cos$ can be obtained from the difference quotient, the sum formula, and the fact that $\\lim_{x \\to 0}\\frac{1 - \\cos x}{x} = 1$ and $\\lim_{x \\to 0}\\frac{\\sin x}{x} = 0$\n",
    "\n",
    "> **Remember:** \n",
    ">\n",
    ">> $\\sin(x + y) = \\sin(x)\\cos(y) + \\cos(x)\\sin(y)$\n",
    ">>\n",
    ">> $\\cos(x + y) = \\cos(x)\\cos(y) - \\sin(x)\\sin(y)$\n",
    "\n",
    "$\\bullet (u + v)' = u'+ v'$\n",
    "\n",
    "$\\bullet (cu)' = cu'$ with $c$ constant\n",
    "\n",
    "$\\bullet (uv)' = u'v + uv'$\n",
    "\n",
    "$\\bullet (u/v)' = \\frac{u'v - uv'}{v^2}$\n",
    "\n",
    "$\\bullet (f(g(x)))' = f'(g(x))g'(x)$ --> *Chain rule*"
   ]
  }
 ],
 "metadata": {
  "kernelspec": {
   "display_name": "Python 2",
   "language": "python",
   "name": "python2"
  },
  "language_info": {
   "codemirror_mode": {
    "name": "ipython",
    "version": 2
   },
   "file_extension": ".py",
   "mimetype": "text/x-python",
   "name": "python",
   "nbconvert_exporter": "python",
   "pygments_lexer": "ipython2",
   "version": "2.7.10"
  }
 },
 "nbformat": 4,
 "nbformat_minor": 0
}
