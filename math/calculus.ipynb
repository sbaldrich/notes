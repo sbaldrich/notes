{
 "metadata": {
  "name": ""
 },
 "nbformat": 3,
 "nbformat_minor": 0,
 "worksheets": [
  {
   "cells": [
    {
     "cell_type": "markdown",
     "metadata": {},
     "source": [
      "## Notes on single variable calculus (MIT course)\n",
      "1. [derivatives](#derivatives)\n",
      "\n",
      "<a name=\"derivatives\"></a>\n",
      "### Derivatives\n",
      "\n",
      "#### Geometric interpretation\n",
      "The slope of the line tangent to the graph of $f(x)$. However, a tangent line is not just a line that meets the graph at one point, it is the limit of the secant line as the distance between the two points tends to zero. So the derivative is the limit of the slopes of secant lines $PQ$ as $Q \\to P$ (with $P$ fixed).\n",
      "\n",
      "From this definition, we can extract the formal definition of derivatives: \n",
      "\n",
      "> Not really, I'm still learning to use Jupyter.\n",
      "\n",
      "$$\n",
      "\\frac{\\Delta f}{\\Delta x} = 42\n",
      "$$"
     ]
    },
    {
     "cell_type": "code",
     "collapsed": false,
     "input": [],
     "language": "python",
     "metadata": {},
     "outputs": []
    }
   ],
   "metadata": {}
  }
 ]
}