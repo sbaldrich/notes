{
 "cells": [
  {
   "cell_type": "markdown",
   "metadata": {},
   "source": [
    "## Notes on single variable calculus (MIT course)\n",
    "1. [Derivatives](#derivatives)\n",
    "\n",
    "<a name=\"derivatives\"></a>\n",
    "### Derivatives\n",
    "\n",
    "#### Geometric interpretation\n",
    "The slope of the line tangent to the graph of $f(x)$. However, a tangent line is not just a line that meets the graph at one point, it is the limit of the secant lines as the distance between the two points tends to zero. So, *the derivative is the limit of the slopes of secant lines $PQ$ as $Q \\to P$ (with $P$ fixed)*.\n",
    "\n",
    "![secant](img/secant.png)\n",
    "\n",
    "$$\\lim_{\\Delta x \\to 0} \\frac{\\Delta f}{\\Delta x} = \\lim_{\\Delta x \\to 0} \\frac{f(x_0 + \\Delta x) - f(x_0)}{\\Delta x} = f'(x_0)$$\n",
    "\n",
    "#### General rule for derivating polynomials\n",
    "\n",
    "Let $f(x) = x^n$ with $n \\in \\mathbb{Z} \\land n >= 1$. What is $f'(x)$?\n",
    "\n",
    "$$\\frac{\\Delta y}{\\Delta x} = \\frac{(x_0 + \\Delta x)^n - x_0^n}{\\Delta x} = \\frac{(x + \\Delta x)^n - x^n}{\\Delta x}$$\n",
    "\n",
    "Now, \n",
    "$$(x + \\Delta x)^n = x^n + n(\\Delta x)(x^{n-1}) + o((\\Delta x)^2)$$\n",
    "\n",
    "Then, \n",
    "\n",
    "$$\\frac{\\Delta y}{\\Delta x} = \\frac{x^n + n(\\Delta x)(x^{n-1}) + o((\\Delta x)^2) - x^n}{\\Delta x} = nx^{n-1} + o(\\Delta x)$$\n",
    "\n",
    "Taking the limit, \n",
    "\n",
    "$$\\lim_{\\Delta x \\to 0} \\frac{\\Delta y}{\\Delta x} = nx^{n-1}$$\n",
    "\n",
    "Therefore, \n",
    "\n",
    "$$\\boxed{\\frac{d}{dx} x^n = nx^{n-1}}$$"
   ]
  }
 ],
 "metadata": {
  "kernelspec": {
   "display_name": "Python 2",
   "language": "python",
   "name": "python2"
  },
  "language_info": {
   "codemirror_mode": {
    "name": "ipython",
    "version": 2
   },
   "file_extension": ".py",
   "mimetype": "text/x-python",
   "name": "python",
   "nbconvert_exporter": "python",
   "pygments_lexer": "ipython2",
   "version": "2.7.10"
  }
 },
 "nbformat": 4,
 "nbformat_minor": 0
}
